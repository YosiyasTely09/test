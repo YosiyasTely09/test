{
 "cells": [
  {
   "cell_type": "code",
   "execution_count": 1,
   "metadata": {},
   "outputs": [],
   "source": [
    "\n",
    "customers = {\n",
    "    10000001: (\"Simon\", \"Walsh\", \"Male\", 21, \"Savings\"),\n",
    "    40000002: (\"Jasmine\", \"Miller\", \"Female\", 34, \"Checking\"),\n",
    "    10000003: (\"Liam\", \"Brown\", \"Male\", 46, \"Savings\"),\n",
    "    30000004: (\"Trevor\", \"Parr\", \"Male\", 32, \"Checking\"),\n",
    "    10000005: (\"Deirdre\", \"Pullman\", \"Female\", 38, \"Savings\"),\n",
    "    30000006: (\"Ava\", \"Coleman\", \"Female\", 30, \"Checking\"),\n",
    "    10000007: (\"Dorothy\", \"Thomson\", \"Female\", 34, \"Savings\"),\n",
    "    20000008: (\"Lisa\", \"Knox\", \"Female\", 48, \"Checking\"),\n",
    "    30000009: (\"Ruth\", \"Campbell\", \"Female\", 33, \"Savings\")\n",
    "}"
   ]
  },
  {
   "cell_type": "code",
   "execution_count": 2,
   "metadata": {},
   "outputs": [
    {
     "data": {
      "text/plain": [
       "{10000001: ('Simon', 'Walsh', 'Male', 21, 'Savings'),\n",
       " 40000002: ('Jasmine', 'Miller', 'Female', 34, 'Checking'),\n",
       " 10000003: ('Liam', 'Brown', 'Male', 46, 'Savings'),\n",
       " 30000004: ('Trevor', 'Parr', 'Male', 32, 'Checking'),\n",
       " 10000005: ('Deirdre', 'Pullman', 'Female', 38, 'Savings'),\n",
       " 30000006: ('Ava', 'Coleman', 'Female', 30, 'Checking'),\n",
       " 10000007: ('Dorothy', 'Thomson', 'Female', 34, 'Savings'),\n",
       " 20000008: ('Lisa', 'Knox', 'Female', 48, 'Checking'),\n",
       " 30000009: ('Ruth', 'Campbell', 'Female', 33, 'Savings')}"
      ]
     },
     "execution_count": 2,
     "metadata": {},
     "output_type": "execute_result"
    }
   ],
   "source": [
    "customers"
   ]
  },
  {
   "cell_type": "code",
   "execution_count": 3,
   "metadata": {},
   "outputs": [],
   "source": [
    "\n",
    "balances = {\n",
    "    10000001: 1500.0,  \n",
    "    40000002: 2000.0,  \n",
    "    10000003: 2500.0,  \n",
    "    30000004: 1800.0,  \n",
    "    10000005: 1200.0,  \n",
    "    30000006: 900.0,   \n",
    "    10000007: 1600.0,  \n",
    "    20000008: 3000.0,  \n",
    "    30000009: 1100.0   \n",
    "}"
   ]
  },
  {
   "cell_type": "code",
   "execution_count": 4,
   "metadata": {},
   "outputs": [
    {
     "data": {
      "text/plain": [
       "{10000001: 1500.0,\n",
       " 40000002: 2000.0,\n",
       " 10000003: 2500.0,\n",
       " 30000004: 1800.0,\n",
       " 10000005: 1200.0,\n",
       " 30000006: 900.0,\n",
       " 10000007: 1600.0,\n",
       " 20000008: 3000.0,\n",
       " 30000009: 1100.0}"
      ]
     },
     "execution_count": 4,
     "metadata": {},
     "output_type": "execute_result"
    }
   ],
   "source": [
    "balances"
   ]
  },
  {
   "cell_type": "code",
   "execution_count": 5,
   "metadata": {},
   "outputs": [],
   "source": [
    "transaction_types = {\"deposit\", \"withdrawal\"}\n",
    "transaction_history = {\n",
    "    10000001: [],\n",
    "    40000002: [],\n",
    "    10000003: [],\n",
    "    30000004: [],\n",
    "    10000005: [],\n",
    "    30000006: [],\n",
    "    10000007: [],\n",
    "    20000008: [],\n",
    "    30000009: []\n",
    "}"
   ]
  },
  {
   "cell_type": "code",
   "execution_count": 7,
   "metadata": {},
   "outputs": [],
   "source": [
    "# Adding a New Customer\n",
    "def add_customer(account_number, name, surname, gender, age, account_type, initial_balance=0.0):\n",
    "    customers[account_number] = (name, surname, gender, age, account_type)\n",
    "    balances[account_number] = initial_balance\n",
    "    transaction_history[account_number] = []\n",
    "    print(f\"Customer {name} {surname} added with account number {account_number}.\")\n",
    "\n"
   ]
  },
  {
   "cell_type": "code",
   "execution_count": 12,
   "metadata": {},
   "outputs": [
    {
     "name": "stdout",
     "output_type": "stream",
     "text": [
      "Customer Dominic Parr added with account number 100000010.\n"
     ]
    }
   ],
   "source": [
    "add_customer(100000010,'Dominic','Parr','Male','42','Savings',12000.0)"
   ]
  },
  {
   "cell_type": "code",
   "execution_count": 10,
   "metadata": {},
   "outputs": [],
   "source": [
    "del customers['100000010']\n"
   ]
  },
  {
   "cell_type": "code",
   "execution_count": 13,
   "metadata": {},
   "outputs": [
    {
     "data": {
      "text/plain": [
       "{10000001: ('Simon', 'Walsh', 'Male', 21, 'Savings'),\n",
       " 40000002: ('Jasmine', 'Miller', 'Female', 34, 'Checking'),\n",
       " 10000003: ('Liam', 'Brown', 'Male', 46, 'Savings'),\n",
       " 30000004: ('Trevor', 'Parr', 'Male', 32, 'Checking'),\n",
       " 10000005: ('Deirdre', 'Pullman', 'Female', 38, 'Savings'),\n",
       " 30000006: ('Ava', 'Coleman', 'Female', 30, 'Checking'),\n",
       " 10000007: ('Dorothy', 'Thomson', 'Female', 34, 'Savings'),\n",
       " 20000008: ('Lisa', 'Knox', 'Female', 48, 'Checking'),\n",
       " 30000009: ('Ruth', 'Campbell', 'Female', 33, 'Savings'),\n",
       " 100000010: ('Dominic', 'Parr', 'Male', '42', 'Savings')}"
      ]
     },
     "execution_count": 13,
     "metadata": {},
     "output_type": "execute_result"
    }
   ],
   "source": [
    "customers"
   ]
  },
  {
   "cell_type": "code",
   "execution_count": 28,
   "metadata": {},
   "outputs": [],
   "source": [
    "from datetime import datetime"
   ]
  },
  {
   "cell_type": "code",
   "execution_count": 29,
   "metadata": {},
   "outputs": [],
   "source": [
    "# Deposit and Withdrawal\n",
    "def deposit(account_number, amount):\n",
    "    if account_number in balances:\n",
    "        balances[account_number] += amount\n",
    "        current_date = datetime.now().strftime(\"%Y-%m-%d\")  # Get current date\n",
    "        transaction_history[account_number].append({\"type\": \"deposit\", \"amount\": amount, \"date\": current_date})\n",
    "        transaction_types.add(\"deposit\")\n",
    "        print(f\"Deposited {amount} to account {account_number}. New balance: {balances[account_number]}\")\n",
    "    else:\n",
    "        print(\"Account not found.\")\n",
    "\n",
    "\n"
   ]
  },
  {
   "cell_type": "code",
   "execution_count": 35,
   "metadata": {},
   "outputs": [
    {
     "name": "stdout",
     "output_type": "stream",
     "text": [
      "Deposited 20000 to account 40000002. New balance: 20500.0\n"
     ]
    }
   ],
   "source": [
    "deposit(40000002, 20000)"
   ]
  },
  {
   "cell_type": "code",
   "execution_count": 31,
   "metadata": {},
   "outputs": [
    {
     "data": {
      "text/plain": [
       "{10000001: 2100.0,\n",
       " 40000002: 500.0,\n",
       " 10000003: 2500.0,\n",
       " 30000004: 1800.0,\n",
       " 10000005: 1200.0,\n",
       " 30000006: 900.0,\n",
       " 10000007: 1600.0,\n",
       " 20000008: 3000.0,\n",
       " 30000009: 1100.0,\n",
       " '100000010': 12000.0,\n",
       " 100000010: 12000.0}"
      ]
     },
     "execution_count": 31,
     "metadata": {},
     "output_type": "execute_result"
    }
   ],
   "source": [
    "balances"
   ]
  },
  {
   "cell_type": "code",
   "execution_count": 33,
   "metadata": {},
   "outputs": [],
   "source": [
    "\n",
    "def withdraw(account_number, amount):\n",
    "    if account_number in balances:\n",
    "        if balances[account_number] >= amount:\n",
    "            balances[account_number] -= amount\n",
    "            current_date = datetime.now().strftime(\"%Y-%m-%d\") \n",
    "            transaction_history[account_number].append({\"type\": \"withdrawal\", \"amount\": amount, \"date\": current_date})\n",
    "            transaction_types.add(\"withdrawal\")\n",
    "            print(f\"Withdrew {amount} from account {account_number}. New balance: {balances[account_number]}\")\n",
    "        else:\n",
    "            print(\"Insufficient balance.\")\n",
    "    else:\n",
    "        print(\"Account not found.\")\n"
   ]
  },
  {
   "cell_type": "code",
   "execution_count": 36,
   "metadata": {},
   "outputs": [
    {
     "name": "stdout",
     "output_type": "stream",
     "text": [
      "Withdrew 1500 from account 40000002. New balance: 19000.0\n"
     ]
    }
   ],
   "source": [
    "withdraw(40000002, 1500)"
   ]
  },
  {
   "cell_type": "code",
   "execution_count": 23,
   "metadata": {},
   "outputs": [
    {
     "data": {
      "text/plain": [
       "{10000001: 1900.0,\n",
       " 40000002: 500.0,\n",
       " 10000003: 2500.0,\n",
       " 30000004: 1800.0,\n",
       " 10000005: 1200.0,\n",
       " 30000006: 900.0,\n",
       " 10000007: 1600.0,\n",
       " 20000008: 3000.0,\n",
       " 30000009: 1100.0,\n",
       " '100000010': 12000.0,\n",
       " 100000010: 12000.0}"
      ]
     },
     "execution_count": 23,
     "metadata": {},
     "output_type": "execute_result"
    }
   ],
   "source": [
    "balances"
   ]
  },
  {
   "cell_type": "code",
   "execution_count": 24,
   "metadata": {},
   "outputs": [],
   "source": [
    "def view_balance(account_number):\n",
    "    if account_number in balances:\n",
    "        print(f\"Account {account_number} balance: {balances[account_number]}\")\n",
    "    else:\n",
    "        print(\"Account not found.\")"
   ]
  },
  {
   "cell_type": "code",
   "execution_count": 25,
   "metadata": {},
   "outputs": [
    {
     "name": "stdout",
     "output_type": "stream",
     "text": [
      "Account 40000002 balance: 500.0\n"
     ]
    }
   ],
   "source": [
    "view_balance(40000002)"
   ]
  },
  {
   "cell_type": "code",
   "execution_count": 26,
   "metadata": {},
   "outputs": [],
   "source": [
    "def view_transaction_history(account_number):\n",
    "    if account_number in transaction_history:\n",
    "        print(f\"Transaction history for account {account_number}:\")\n",
    "        for transaction in transaction_history[account_number]:\n",
    "            print(transaction)\n",
    "    else:\n",
    "        print(\"Account not found.\")"
   ]
  },
  {
   "cell_type": "code",
   "execution_count": 37,
   "metadata": {},
   "outputs": [
    {
     "name": "stdout",
     "output_type": "stream",
     "text": [
      "Transaction history for account 40000002:\n",
      "{'type': 'withdrawal', 'amount': 1500, 'date': '2023-01-05'}\n",
      "{'type': 'deposit', 'amount': 20000, 'date': '2024-10-30'}\n",
      "{'type': 'withdrawal', 'amount': 1500, 'date': '2024-10-30'}\n"
     ]
    }
   ],
   "source": [
    "view_transaction_history(40000002)\n"
   ]
  }
 ],
 "metadata": {
  "kernelspec": {
   "display_name": "Python 3",
   "language": "python",
   "name": "python3"
  },
  "language_info": {
   "codemirror_mode": {
    "name": "ipython",
    "version": 3
   },
   "file_extension": ".py",
   "mimetype": "text/x-python",
   "name": "python",
   "nbconvert_exporter": "python",
   "pygments_lexer": "ipython3",
   "version": "3.12.2"
  }
 },
 "nbformat": 4,
 "nbformat_minor": 2
}
